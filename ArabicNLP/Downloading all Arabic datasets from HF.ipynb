{
 "cells": [
  {
   "cell_type": "code",
   "execution_count": 4,
   "id": "8fd78306",
   "metadata": {},
   "outputs": [],
   "source": [
    "import datasets\n",
    "from datasets import load_dataset"
   ]
  },
  {
   "cell_type": "markdown",
   "id": "c2cf422c",
   "metadata": {},
   "source": [
    "# LLM / Instruction-Finetuing datasets"
   ]
  },
  {
   "cell_type": "code",
   "execution_count": null,
   "id": "cb547aa2",
   "metadata": {},
   "outputs": [],
   "source": [
    "\"Yasbok/Alpaca_arabic_instruct\" # \n",
    "\"OpenAssistant/oasst1\" # It has an arabic subset\n",
    "\"OpenAssistant/oasst2\" # It has an arabic subset\n",
    "\"uonlp/CulturaX\" # Cleaned subset of mC4\n",
    "\"M-A-D/Mixed-Arabic-Datasets-Repo\" # A Community-Driven Collection of Diverse Arabic Texts\n",
    "\"oserikov/arabic_billion_words\" # Includes more than five million newspaper articles. \n",
    "\"bigscience/xP3\""
   ]
  },
  {
   "cell_type": "markdown",
   "id": "9bd965a2",
   "metadata": {},
   "source": [
    "# Specific NLP tasks"
   ]
  },
  {
   "cell_type": "markdown",
   "id": "51842f37",
   "metadata": {},
   "source": [
    "### Spoken words"
   ]
  },
  {
   "cell_type": "code",
   "execution_count": null,
   "id": "99009271",
   "metadata": {},
   "outputs": [],
   "source": [
    "\"MLCommons/ml_spoken_words\""
   ]
  },
  {
   "cell_type": "markdown",
   "id": "e16d6b2e",
   "metadata": {},
   "source": [
    "### Sentiment Analysis"
   ]
  },
  {
   "cell_type": "code",
   "execution_count": null,
   "id": "e03920c3",
   "metadata": {},
   "outputs": [],
   "source": [
    "\"sepidmnorozy/Arabic_sentiment\"\n",
    "\"ar_res_reviews\""
   ]
  },
  {
   "cell_type": "markdown",
   "id": "ca6bdebe",
   "metadata": {},
   "source": [
    "### Question Answering"
   ]
  },
  {
   "cell_type": "code",
   "execution_count": null,
   "id": "277c19d9",
   "metadata": {},
   "outputs": [],
   "source": [
    "\"clips/mqa\"\n",
    "\"datasets/mkqa\""
   ]
  },
  {
   "cell_type": "markdown",
   "id": "ed71b560",
   "metadata": {},
   "source": [
    "### Machine Translation"
   ]
  },
  {
   "cell_type": "code",
   "execution_count": null,
   "id": "18eed304",
   "metadata": {},
   "outputs": [],
   "source": [
    "\"cahya/fleurs\"\n",
    "\"M-A-D/DarijaBridge\""
   ]
  },
  {
   "cell_type": "markdown",
   "id": "ff9465f1",
   "metadata": {},
   "source": [
    "### Dialects"
   ]
  },
  {
   "cell_type": "code",
   "execution_count": null,
   "id": "7c759813",
   "metadata": {},
   "outputs": [],
   "source": [
    "\"BounharAbdelaziz/English-to-Moroccan-Darija\"\n",
    "\"Ali-C137/Darija-Stories-Dataset\""
   ]
  }
 ],
 "metadata": {
  "kernelspec": {
   "display_name": "Python 3 (ipykernel)",
   "language": "python",
   "name": "python3"
  },
  "language_info": {
   "codemirror_mode": {
    "name": "ipython",
    "version": 3
   },
   "file_extension": ".py",
   "mimetype": "text/x-python",
   "name": "python",
   "nbconvert_exporter": "python",
   "pygments_lexer": "ipython3",
   "version": "3.11.5"
  }
 },
 "nbformat": 4,
 "nbformat_minor": 5
}
