{
 "cells": [
  {
   "cell_type": "code",
   "execution_count": 4,
   "id": "080b0333",
   "metadata": {},
   "outputs": [],
   "source": [
    "import datasets\n",
    "from datasets import load_dataset"
   ]
  },
  {
   "cell_type": "markdown",
   "id": "f384a8cd",
   "metadata": {},
   "source": [
    "# LLM / Instruction-Finetuing datasets"
   ]
  },
  {
   "cell_type": "code",
   "execution_count": null,
   "id": "ed82891e",
   "metadata": {},
   "outputs": [],
   "source": [
    "\"Yasbok/Alpaca_arabic_instruct\" # \n",
    "\"OpenAssistant/oasst1\" # It has an arabic subset\n",
    "\"OpenAssistant/oasst2\" # It has an arabic subset\n",
    "\"uonlp/CulturaX\" # Cleaned subset of mC4\n",
    "\"M-A-D/Mixed-Arabic-Datasets-Repo\" # A Community-Driven Collection of Diverse Arabic Texts\n",
    "\"oserikov/arabic_billion_words\" # Includes more than five million newspaper articles. "
   ]
  },
  {
   "cell_type": "markdown",
   "id": "ad2091c5",
   "metadata": {},
   "source": [
    "# Specific NLP tasks"
   ]
  },
  {
   "cell_type": "markdown",
   "id": "de55b3fa",
   "metadata": {},
   "source": [
    "### Sentiment Analysis"
   ]
  },
  {
   "cell_type": "code",
   "execution_count": null,
   "id": "0c65c471",
   "metadata": {},
   "outputs": [],
   "source": [
    "\"sepidmnorozy/Arabic_sentiment\"\n",
    "\"\""
   ]
  },
  {
   "cell_type": "code",
   "execution_count": null,
   "id": "5693da03",
   "metadata": {},
   "outputs": [],
   "source": [
    "\"clips/mqa\" # Question-answering, has an arabic subset\n"
   ]
  }
 ],
 "metadata": {
  "kernelspec": {
   "display_name": "Python 3 (ipykernel)",
   "language": "python",
   "name": "python3"
  },
  "language_info": {
   "codemirror_mode": {
    "name": "ipython",
    "version": 3
   },
   "file_extension": ".py",
   "mimetype": "text/x-python",
   "name": "python",
   "nbconvert_exporter": "python",
   "pygments_lexer": "ipython3",
   "version": "3.11.5"
  }
 },
 "nbformat": 4,
 "nbformat_minor": 5
}
