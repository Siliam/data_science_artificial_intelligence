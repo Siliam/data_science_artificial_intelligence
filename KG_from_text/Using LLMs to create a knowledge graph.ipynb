{
 "cells": [
  {
   "cell_type": "code",
   "execution_count": 1,
   "id": "cd8c6335",
   "metadata": {},
   "outputs": [],
   "source": [
    "# ! pip install requests\n",
    "# ! pip install bs4"
   ]
  },
  {
   "cell_type": "code",
   "execution_count": 7,
   "id": "07a0021b",
   "metadata": {},
   "outputs": [
    {
     "name": "stdout",
     "output_type": "stream",
     "text": [
      "Mon Jan 29 19:43:54 2024       \n",
      "+---------------------------------------------------------------------------------------+\n",
      "| NVIDIA-SMI 536.67                 Driver Version: 536.67       CUDA Version: 12.2     |\n",
      "|-----------------------------------------+----------------------+----------------------+\n",
      "| GPU  Name                     TCC/WDDM  | Bus-Id        Disp.A | Volatile Uncorr. ECC |\n",
      "| Fan  Temp   Perf          Pwr:Usage/Cap |         Memory-Usage | GPU-Util  Compute M. |\n",
      "|                                         |                      |               MIG M. |\n",
      "|=========================================+======================+======================|\n",
      "|   0  NVIDIA GeForce RTX 4070      WDDM  | 00000000:24:00.0  On |                  N/A |\n",
      "|  0%   35C    P3              19W / 200W |   6553MiB / 12282MiB |      0%      Default |\n",
      "|                                         |                      |                  N/A |\n",
      "+-----------------------------------------+----------------------+----------------------+\n",
      "                                                                                         \n",
      "+---------------------------------------------------------------------------------------+\n",
      "| Processes:                                                                            |\n",
      "|  GPU   GI   CI        PID   Type   Process name                            GPU Memory |\n",
      "|        ID   ID                                                             Usage      |\n",
      "|=======================================================================================|\n",
      "|    0   N/A  N/A      3388    C+G   ...4.0_x64__cv1g1gvanyjgm\\WhatsApp.exe    N/A      |\n",
      "|    0   N/A  N/A      3920    C+G   ...ekyb3d8bbwe\\PhoneExperienceHost.exe    N/A      |\n",
      "|    0   N/A  N/A      5220    C+G   ...Godot\\Godot_v4.1.1-stable_win64.exe    N/A      |\n",
      "|    0   N/A  N/A      5988    C+G   ...__8wekyb3d8bbwe\\WindowsTerminal.exe    N/A      |\n",
      "|    0   N/A  N/A      8144    C+G   C:\\Windows\\explorer.exe                   N/A      |\n",
      "|    0   N/A  N/A      8468    C+G   ...5n1h2txyewy\\ShellExperienceHost.exe    N/A      |\n",
      "|    0   N/A  N/A      8528    C+G   ...crosoft\\Edge\\Application\\msedge.exe    N/A      |\n",
      "|    0   N/A  N/A      8980    C+G   ...nt.CBS_cw5n1h2txyewy\\SearchHost.exe    N/A      |\n",
      "|    0   N/A  N/A      9004    C+G   ...2txyewy\\StartMenuExperienceHost.exe    N/A      |\n",
      "|    0   N/A  N/A     11140    C+G   ...oogle\\Chrome\\Application\\chrome.exe    N/A      |\n",
      "|    0   N/A  N/A     14128    C+G   ...CBS_cw5n1h2txyewy\\TextInputHost.exe    N/A      |\n",
      "|    0   N/A  N/A     14460    C+G   ...siveControlPanel\\SystemSettings.exe    N/A      |\n",
      "|    0   N/A  N/A     16244    C+G   ...cal\\Microsoft\\OneDrive\\OneDrive.exe    N/A      |\n",
      "|    0   N/A  N/A     16468    C+G   ...\\AMD\\CNext\\CNext\\RadeonSoftware.exe    N/A      |\n",
      "|    0   N/A  N/A     18440    C+G   ...05.0_x64__zpdnekdrzrea0\\Spotify.exe    N/A      |\n",
      "|    0   N/A  N/A     19600    C+G   ...n\\120.0.2210.144\\msedgewebview2.exe    N/A      |\n",
      "+---------------------------------------------------------------------------------------+\n"
     ]
    }
   ],
   "source": [
    "! nvidia-smi"
   ]
  },
  {
   "cell_type": "code",
   "execution_count": 2,
   "id": "3a740f7a",
   "metadata": {},
   "outputs": [],
   "source": [
    "from langchain.callbacks.manager import CallbackManager\n",
    "from langchain.callbacks.streaming_stdout import StreamingStdOutCallbackHandler\n",
    "from langchain_community.llms import Ollama"
   ]
  },
  {
   "cell_type": "code",
   "execution_count": 3,
   "id": "cc9f40b6",
   "metadata": {},
   "outputs": [],
   "source": [
    "llm = Ollama(\n",
    "    model=\"llama2\",\n",
    "    callback_manager=CallbackManager([StreamingStdOutCallbackHandler()]),\n",
    ")"
   ]
  },
  {
   "cell_type": "code",
   "execution_count": 4,
   "id": "0754faed",
   "metadata": {},
   "outputs": [
    {
     "name": "stdout",
     "output_type": "stream",
     "text": [
      "\n",
      "Why don't scientists trust atoms? Because they make up everything! 😂"
     ]
    }
   ],
   "source": [
    "_ = llm.invoke(\"Tell me a joke\")"
   ]
  },
  {
   "cell_type": "code",
   "execution_count": 5,
   "id": "fdfa8cc3",
   "metadata": {},
   "outputs": [],
   "source": [
    "import requests\n",
    "from bs4 import BeautifulSoup\n",
    "import re\n",
    "\n",
    "response = requests.get(url=\"https://en.wikipedia.org/wiki/Conway%27s_Game_of_Life\",)\n",
    "soup = BeautifulSoup(response.content, 'html.parser')\n",
    "\n",
    "paragraphs = soup.find_all('p')"
   ]
  },
  {
   "cell_type": "code",
   "execution_count": 6,
   "id": "a83c5c82",
   "metadata": {
    "scrolled": false
   },
   "outputs": [
    {
     "name": "stdout",
     "output_type": "stream",
     "text": [
      "Empty paragraph\n",
      "\n",
      "The Game of Life, also known simply as Life, is a cellular automaton devised by the British mathematician John Horton Conway in 1970.[1] It is a zero-player game,[2][3] meaning that its evolution is determined by its initial state, requiring no further input. One interacts with the Game of Life by creating an initial configuration and observing how it evolves. It is Turing complete and can simulate a universal constructor or any other Turing machine.\n",
      "\n"
     ]
    }
   ],
   "source": [
    "intro_paragraph = ''\n",
    "for p in paragraphs:\n",
    "    if p.get_text().strip() != '':\n",
    "        intro_paragraph = p.get_text()\n",
    "        print(intro_paragraph)\n",
    "        \n",
    "        break\n",
    "    else:\n",
    "        print(\"Empty paragraph\\n\")"
   ]
  },
  {
   "cell_type": "code",
   "execution_count": 11,
   "id": "7aff1103",
   "metadata": {},
   "outputs": [],
   "source": [
    "intro_paragraph = re.sub(r'\\[.*?\\]', '', intro_paragraph).strip()"
   ]
  },
  {
   "cell_type": "code",
   "execution_count": 12,
   "id": "1030db33",
   "metadata": {},
   "outputs": [
    {
     "data": {
      "text/plain": [
       "'The Game of Life, also known simply as Life, is a cellular automaton devised by the British mathematician John Horton Conway in 1970. It is a zero-player game, meaning that its evolution is determined by its initial state, requiring no further input. One interacts with the Game of Life by creating an initial configuration and observing how it evolves. It is Turing complete and can simulate a universal constructor or any other Turing machine.'"
      ]
     },
     "execution_count": 12,
     "metadata": {},
     "output_type": "execute_result"
    }
   ],
   "source": [
    "intro_paragraph"
   ]
  },
  {
   "cell_type": "code",
   "execution_count": 17,
   "id": "d127b6f2",
   "metadata": {},
   "outputs": [
    {
     "name": "stdout",
     "output_type": "stream",
     "text": [
      "Sure, I'd be happy to help! Here are the knowledge graph triplets that I can generate from the given text:\n",
      "\n",
      "1. \"The Game of Life\", \"known_as\", \"Life\"\n",
      "2. \"John Horton Conway\", \"devised\", \"Game of Life\"\n",
      "3. \"zero-player game\", \"characteristic\", \"determined\"\n",
      "4. \"initial state\", \"requirements\", \"no further input\"\n",
      "5. \"interacts\", \"observes\", \"evolution\"\n",
      "6. \"Turing complete\", \"capability\", \"universal constructor\"\n",
      "7. \"Turing machine\", \"simulates\", \"any other Turing machine\"\n",
      "\n",
      "I hope these triplets are helpful! Let me know if you need any more assistance."
     ]
    }
   ],
   "source": [
    "_ = llm.invoke(f\"\"\"Given the text inside the <text> tag, please generate as many knowledge graph triplets as possible\n",
    "For example, from a sentence like \"Elvis Aaron Presley was known mononymously as Elvis\", you should extract the triplet (\"Elvis Aaron Presley\", \"known_as\", \"Elvis\")\n",
    "\n",
    "<text>\n",
    "{intro_paragraph}\n",
    "</text>\n",
    "\n",
    "Generate every triplet in a new line:\n",
    "\"\"\")"
   ]
  },
  {
   "cell_type": "code",
   "execution_count": 25,
   "id": "e1404025",
   "metadata": {
    "scrolled": false
   },
   "outputs": [
    {
     "name": "stdout",
     "output_type": "stream",
     "text": [
      "The Game of Life, also known simply as Life, is a cellular automaton devised by the British mathematician John Horton Conway in 1970\n",
      "\n",
      "1. Subject: The Game of Life\n",
      "Relation: was devised by\n",
      "Object: John Horton Conway\n",
      "2. Subject: John Horton Conway\n",
      "Relation: devised\n",
      "Object: The Game of Life\n",
      "3. Subject: The Game of Life\n",
      "Relation: is a cellular automaton\n",
      "Object: British mathematician John Horton Conway\n",
      "4. Subject: John Horton Conway\n",
      "Relation: British mathematician\n",
      "Object: The Game of Life\n",
      "5. Subject: The Game of Life\n",
      "Relation: also known as\n",
      "Object: Life\n",
      "6. Subject: Life\n",
      "Relation: also known as\n",
      "Object: The Game of Life\n",
      "7. Subject: John Horton Conway\n",
      "Relation: devised in 1970\n",
      "Object: The Game of Life\n",
      "8. Subject: The Game of Life\n",
      "Relation: was invented in 1970\n",
      "Object: John Horton Conway\n",
      "\n",
      "Note: These triplets are just examples, and there may be many more possible combinations depending on the context and the information available. It is a zero-player game, meaning that its evolution is determined by its initial state, requiring no further input\n",
      "\n",
      "1. subject: game - relation: zero-player - object: It\n",
      "2. subject: state - relation: determined - object: initial state\n",
      "3. subject: input - relation: none - object: Its evolution\n",
      "4. subject: player - relation: none - object: Game\n",
      "5. subject: determination - relation: evolution - object: Initial state\n",
      "6. subject: evolution - relation: determination - object: State\n",
      "7. subject: gameplay - relation: none - object: Game\n",
      "8. subject: state of the game - relation: determined - object: Initial state\n",
      "9. subject: input to the game - relation: none - object: Evolution of the game\n",
      "10. subject: player's role - relation: none - object: Game One interacts with the Game of Life by creating an initial configuration and observing how it evolves\n",
      "\n",
      "1. Subject: Game of Life\n",
      "Relation: is interacted with\n",
      "Object: initial configuration\n",
      "2. Subject: initial configuration\n",
      "Relation: evolves\n",
      "Object: Game of Life\n",
      "3. Subject: creation\n",
      "Relation: interacts with\n",
      "Object: Game of Life\n",
      "4. Subject: observation\n",
      "Relation: is part of\n",
      "Object: evolution of Game of Life\n",
      "5. Subject: Game of Life\n",
      "Relation: is a game\n",
      "Object: initial configuration\n",
      "6. Subject: initial configuration\n",
      "Relation: is a part of\n",
      "Object: Game of Life's evolution\n",
      "7. Subject: interaction\n",
      "Relation: involves\n",
      "Object: Game of Life\n",
      "8. Subject: configuration\n",
      "Relation: evolves from\n",
      "Object: initial configuration\n",
      "9. Subject: evolution\n",
      "Relation: occurs in\n",
      "Object: Game of Life\n",
      "10. Subject: Game of Life\n",
      "Relation: is a system\n",
      "Object: initial configuration It is Turing complete and can simulate a universal constructor or any other Turing machine\n",
      "\n",
      "1. Subject: Turing complete\n",
      "Relation: can simulate\n",
      "Object: universal constructor\n",
      "2. Subject: Turing machine\n",
      "Relation: simulate\n",
      "Object: any other Turing machine\n",
      "3. Subject: simulation\n",
      "Relation: can be performed\n",
      "Object: by a Turing machine\n",
      "4. Subject: computational power\n",
      "Relation: is limited by\n",
      "Object: the resources of a Turing machine\n",
      "5. Subject: algorithm\n",
      "Relation: can be implemented\n",
      "Object: using a Turing machine\n",
      "6. Subject: computer science\n",
      "Relation: is concerned with\n",
      "Object: the study of Turing machines and their behavior\n",
      "7. Subject: programming languages\n",
      "Relation: are used to design\n",
      "Object: Turing machines and their algorithms\n",
      "8. Subject: computational complexity\n",
      "Relation: is a measure of\n",
      "Object: the resources required to solve a problem using a Turing machine\n",
      "9. Subject: time complexity\n",
      "Relation: is a measure of\n",
      "Object: the amount of time required to solve a problem using a Turing machine\n",
      "10. Subject: space complexity\n",
      "Relation: is a measure of\n",
      "Object: the amount of memory required to solve a problem using a Turing machine\n",
      "\n",
      "Note: These triplets are just examples, and there are many other possible combinations that could be generated based on the sentence provided.\n",
      "\n",
      "Sure! Here are some knowledge graph triplets based on the sentence inside the `<text>` tag:\n",
      "\n",
      "1. Subject: \"sentence\" - Relation: \"contains\" - Object: \"words\"\n",
      "2. Subject: \"words\" - Relation: \"are part of\" - Object: \"sentence\"\n",
      "3. Subject: \"sentence\" - Relation: \"was written by\" - Object: \"author\"\n",
      "4. Subject: \"author\" - Relation: \"wrote\" - Object: \"sentence\"\n",
      "5. Subject: \"sentence\" - Relation: \"is a part of\" - Object: \"text\"\n",
      "6. Subject: \"text\" - Relation: \"includes\" - Object: \"sentence\"\n",
      "7. Subject: \"sentence\" - Relation: \"describes\" - Object: \"topic\"\n",
      "8. Subject: \"topic\" - Relation: \"is described in\" - Object: \"sentence\"\n",
      "9. Subject: \"sentence\" - Relation: \"expresses\" - Object: \"emotion\"\n",
      "10. Subject: \"emotion\" - Relation: \"is expressed in\" - Object: \"sentence\"\n",
      "\n",
      "Note that these triplets are just examples, and there may be many other possible triplets depending on the context and the specific sentence."
     ]
    }
   ],
   "source": [
    "for sentence in intro_paragraph.split('.'):\n",
    "    print(sentence)\n",
    "    _ = llm.invoke(f\"\"\"\n",
    "Given the sentence inside the <text> tag, please generate as many knowledge graph triplets (\"subject\" - \"relation\" - \"object\") as possible.\n",
    "\n",
    "<text>\n",
    "{sentence}\n",
    "</text>\n",
    "\n",
    "Triplets:\n",
    "\"\"\".strip())"
   ]
  },
  {
   "cell_type": "code",
   "execution_count": null,
   "id": "e51df7e9",
   "metadata": {},
   "outputs": [],
   "source": []
  }
 ],
 "metadata": {
  "kernelspec": {
   "display_name": "Python 3 (ipykernel)",
   "language": "python",
   "name": "python3"
  },
  "language_info": {
   "codemirror_mode": {
    "name": "ipython",
    "version": 3
   },
   "file_extension": ".py",
   "mimetype": "text/x-python",
   "name": "python",
   "nbconvert_exporter": "python",
   "pygments_lexer": "ipython3",
   "version": "3.11.5"
  }
 },
 "nbformat": 4,
 "nbformat_minor": 5
}
