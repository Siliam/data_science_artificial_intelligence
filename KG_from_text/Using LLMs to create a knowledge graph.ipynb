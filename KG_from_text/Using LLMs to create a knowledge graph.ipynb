{
 "cells": [
  {
   "cell_type": "code",
   "execution_count": 27,
   "id": "0d28bc26",
   "metadata": {},
   "outputs": [
    {
     "name": "stdout",
     "output_type": "stream",
     "text": [
      "Collecting ollama\n",
      "  Obtaining dependency information for ollama from https://files.pythonhosted.org/packages/5d/aa/a0fc92ef5843aae9bbd7414305b2aad3e267b1cda89d3e4ea785b48d3b2f/ollama-0.1.4-py3-none-any.whl.metadata\n",
      "  Downloading ollama-0.1.4-py3-none-any.whl.metadata (3.8 kB)\n",
      "Requirement already satisfied: httpx<0.26.0,>=0.25.2 in c:\\users\\harri\\anaconda3\\lib\\site-packages (from ollama) (0.25.2)\n",
      "Requirement already satisfied: anyio in c:\\users\\harri\\anaconda3\\lib\\site-packages (from httpx<0.26.0,>=0.25.2->ollama) (3.7.1)\n",
      "Requirement already satisfied: certifi in c:\\users\\harri\\anaconda3\\lib\\site-packages (from httpx<0.26.0,>=0.25.2->ollama) (2023.11.17)\n",
      "Requirement already satisfied: httpcore==1.* in c:\\users\\harri\\anaconda3\\lib\\site-packages (from httpx<0.26.0,>=0.25.2->ollama) (1.0.2)\n",
      "Requirement already satisfied: idna in c:\\users\\harri\\anaconda3\\lib\\site-packages (from httpx<0.26.0,>=0.25.2->ollama) (3.4)\n",
      "Requirement already satisfied: sniffio in c:\\users\\harri\\anaconda3\\lib\\site-packages (from httpx<0.26.0,>=0.25.2->ollama) (1.2.0)\n",
      "Requirement already satisfied: h11<0.15,>=0.13 in c:\\users\\harri\\anaconda3\\lib\\site-packages (from httpcore==1.*->httpx<0.26.0,>=0.25.2->ollama) (0.14.0)\n",
      "Downloading ollama-0.1.4-py3-none-any.whl (8.0 kB)\n",
      "Installing collected packages: ollama\n",
      "Successfully installed ollama-0.1.4\n"
     ]
    }
   ],
   "source": [
    "# ! pip install requests\n",
    "# ! pip install bs4\n",
    "# ! pip install ollama"
   ]
  },
  {
   "cell_type": "code",
   "execution_count": 7,
   "id": "3f0c0c79",
   "metadata": {},
   "outputs": [
    {
     "name": "stdout",
     "output_type": "stream",
     "text": [
      "Mon Jan 29 19:43:54 2024       \n",
      "+---------------------------------------------------------------------------------------+\n",
      "| NVIDIA-SMI 536.67                 Driver Version: 536.67       CUDA Version: 12.2     |\n",
      "|-----------------------------------------+----------------------+----------------------+\n",
      "| GPU  Name                     TCC/WDDM  | Bus-Id        Disp.A | Volatile Uncorr. ECC |\n",
      "| Fan  Temp   Perf          Pwr:Usage/Cap |         Memory-Usage | GPU-Util  Compute M. |\n",
      "|                                         |                      |               MIG M. |\n",
      "|=========================================+======================+======================|\n",
      "|   0  NVIDIA GeForce RTX 4070      WDDM  | 00000000:24:00.0  On |                  N/A |\n",
      "|  0%   35C    P3              19W / 200W |   6553MiB / 12282MiB |      0%      Default |\n",
      "|                                         |                      |                  N/A |\n",
      "+-----------------------------------------+----------------------+----------------------+\n",
      "                                                                                         \n",
      "+---------------------------------------------------------------------------------------+\n",
      "| Processes:                                                                            |\n",
      "|  GPU   GI   CI        PID   Type   Process name                            GPU Memory |\n",
      "|        ID   ID                                                             Usage      |\n",
      "|=======================================================================================|\n",
      "|    0   N/A  N/A      3388    C+G   ...4.0_x64__cv1g1gvanyjgm\\WhatsApp.exe    N/A      |\n",
      "|    0   N/A  N/A      3920    C+G   ...ekyb3d8bbwe\\PhoneExperienceHost.exe    N/A      |\n",
      "|    0   N/A  N/A      5220    C+G   ...Godot\\Godot_v4.1.1-stable_win64.exe    N/A      |\n",
      "|    0   N/A  N/A      5988    C+G   ...__8wekyb3d8bbwe\\WindowsTerminal.exe    N/A      |\n",
      "|    0   N/A  N/A      8144    C+G   C:\\Windows\\explorer.exe                   N/A      |\n",
      "|    0   N/A  N/A      8468    C+G   ...5n1h2txyewy\\ShellExperienceHost.exe    N/A      |\n",
      "|    0   N/A  N/A      8528    C+G   ...crosoft\\Edge\\Application\\msedge.exe    N/A      |\n",
      "|    0   N/A  N/A      8980    C+G   ...nt.CBS_cw5n1h2txyewy\\SearchHost.exe    N/A      |\n",
      "|    0   N/A  N/A      9004    C+G   ...2txyewy\\StartMenuExperienceHost.exe    N/A      |\n",
      "|    0   N/A  N/A     11140    C+G   ...oogle\\Chrome\\Application\\chrome.exe    N/A      |\n",
      "|    0   N/A  N/A     14128    C+G   ...CBS_cw5n1h2txyewy\\TextInputHost.exe    N/A      |\n",
      "|    0   N/A  N/A     14460    C+G   ...siveControlPanel\\SystemSettings.exe    N/A      |\n",
      "|    0   N/A  N/A     16244    C+G   ...cal\\Microsoft\\OneDrive\\OneDrive.exe    N/A      |\n",
      "|    0   N/A  N/A     16468    C+G   ...\\AMD\\CNext\\CNext\\RadeonSoftware.exe    N/A      |\n",
      "|    0   N/A  N/A     18440    C+G   ...05.0_x64__zpdnekdrzrea0\\Spotify.exe    N/A      |\n",
      "|    0   N/A  N/A     19600    C+G   ...n\\120.0.2210.144\\msedgewebview2.exe    N/A      |\n",
      "+---------------------------------------------------------------------------------------+\n"
     ]
    }
   ],
   "source": [
    "! nvidia-smi"
   ]
  },
  {
   "cell_type": "code",
   "execution_count": 2,
   "id": "ba2d9379",
   "metadata": {},
   "outputs": [],
   "source": [
    "from langchain.callbacks.manager import CallbackManager\n",
    "from langchain.callbacks.streaming_stdout import StreamingStdOutCallbackHandler\n",
    "from langchain_community.llms import Ollama"
   ]
  },
  {
   "cell_type": "code",
   "execution_count": 3,
   "id": "531e1165",
   "metadata": {},
   "outputs": [],
   "source": [
    "llm = Ollama(\n",
    "    model=\"llama2\",\n",
    "    callback_manager=CallbackManager([StreamingStdOutCallbackHandler()]),\n",
    ")"
   ]
  },
  {
   "cell_type": "code",
   "execution_count": 4,
   "id": "f668d372",
   "metadata": {},
   "outputs": [
    {
     "name": "stdout",
     "output_type": "stream",
     "text": [
      "\n",
      "Why don't scientists trust atoms? Because they make up everything! 😂"
     ]
    }
   ],
   "source": [
    "_ = llm.invoke(\"Tell me a joke\")"
   ]
  },
  {
   "cell_type": "code",
   "execution_count": 5,
   "id": "73f07e4c",
   "metadata": {},
   "outputs": [],
   "source": [
    "import requests\n",
    "from bs4 import BeautifulSoup\n",
    "import re\n",
    "\n",
    "response = requests.get(url=\"https://en.wikipedia.org/wiki/Conway%27s_Game_of_Life\",)\n",
    "soup = BeautifulSoup(response.content, 'html.parser')\n",
    "\n",
    "paragraphs = soup.find_all('p')"
   ]
  },
  {
   "cell_type": "code",
   "execution_count": 6,
   "id": "2cb6b8c0",
   "metadata": {
    "scrolled": false
   },
   "outputs": [
    {
     "name": "stdout",
     "output_type": "stream",
     "text": [
      "Empty paragraph\n",
      "\n",
      "The Game of Life, also known simply as Life, is a cellular automaton devised by the British mathematician John Horton Conway in 1970.[1] It is a zero-player game,[2][3] meaning that its evolution is determined by its initial state, requiring no further input. One interacts with the Game of Life by creating an initial configuration and observing how it evolves. It is Turing complete and can simulate a universal constructor or any other Turing machine.\n",
      "\n"
     ]
    }
   ],
   "source": [
    "intro_paragraph = ''\n",
    "for p in paragraphs:\n",
    "    if p.get_text().strip() != '':\n",
    "        intro_paragraph = p.get_text()\n",
    "        print(intro_paragraph)\n",
    "        \n",
    "        break\n",
    "    else:\n",
    "        print(\"Empty paragraph\\n\")"
   ]
  },
  {
   "cell_type": "code",
   "execution_count": 11,
   "id": "335472c6",
   "metadata": {},
   "outputs": [],
   "source": [
    "intro_paragraph = re.sub(r'\\[.*?\\]', '', intro_paragraph).strip()"
   ]
  },
  {
   "cell_type": "code",
   "execution_count": 12,
   "id": "8153538d",
   "metadata": {},
   "outputs": [
    {
     "data": {
      "text/plain": [
       "'The Game of Life, also known simply as Life, is a cellular automaton devised by the British mathematician John Horton Conway in 1970. It is a zero-player game, meaning that its evolution is determined by its initial state, requiring no further input. One interacts with the Game of Life by creating an initial configuration and observing how it evolves. It is Turing complete and can simulate a universal constructor or any other Turing machine.'"
      ]
     },
     "execution_count": 12,
     "metadata": {},
     "output_type": "execute_result"
    }
   ],
   "source": [
    "intro_paragraph"
   ]
  },
  {
   "cell_type": "code",
   "execution_count": 17,
   "id": "41ab8bb8",
   "metadata": {},
   "outputs": [
    {
     "name": "stdout",
     "output_type": "stream",
     "text": [
      "Sure, I'd be happy to help! Here are the knowledge graph triplets that I can generate from the given text:\n",
      "\n",
      "1. \"The Game of Life\", \"known_as\", \"Life\"\n",
      "2. \"John Horton Conway\", \"devised\", \"Game of Life\"\n",
      "3. \"zero-player game\", \"characteristic\", \"determined\"\n",
      "4. \"initial state\", \"requirements\", \"no further input\"\n",
      "5. \"interacts\", \"observes\", \"evolution\"\n",
      "6. \"Turing complete\", \"capability\", \"universal constructor\"\n",
      "7. \"Turing machine\", \"simulates\", \"any other Turing machine\"\n",
      "\n",
      "I hope these triplets are helpful! Let me know if you need any more assistance."
     ]
    }
   ],
   "source": [
    "_ = llm.invoke(f\"\"\"Given the text inside the <text> tag, please generate as many knowledge graph triplets as possible\n",
    "For example, from a sentence like \"Elvis Aaron Presley was known mononymously as Elvis\", you should extract the triplet (\"Elvis Aaron Presley\", \"known_as\", \"Elvis\")\n",
    "\n",
    "<text>\n",
    "{intro_paragraph}\n",
    "</text>\n",
    "\n",
    "Generate every triplet in a new line:\n",
    "\"\"\")"
   ]
  },
  {
   "cell_type": "code",
   "execution_count": 28,
   "id": "e933895e",
   "metadata": {},
   "outputs": [
    {
     "name": "stdout",
     "output_type": "stream",
     "text": [
      "\n",
      "The sky appears blue because of a phenomenon called Rayleigh scattering. When sunlight enters Earth's atmosphere, it encounters tiny molecules of gases such as nitrogen and oxygen. These molecules scatter the light in all directions, but they scatter shorter (blue) wavelengths more than longer (red) wavelengths. This is known as Rayleigh scattering.\n",
      "\n",
      "As a result of this scattering, the blue light is dispersed throughout the atmosphere, giving the sky its blue appearance. The other colors in the spectrum, such as red, orange, and yellow, are also present in the sunlight but are scattered in different ways or have their intensity reduced by the atmosphere, which is why we don't see them as prominently.\n",
      "\n",
      "It's worth noting that the blue color of the sky can vary depending on the time of day and atmospheric conditions. For example, during sunrise and sunset, the sky can take on hues of red, orange, and pink due to the angle of the sunlight and the presence of dust and water particles in the atmosphere.\n",
      "\n",
      "In summary, the sky appears blue because of Rayleigh scattering, which disperses blue light throughout the atmosphere.\n"
     ]
    }
   ],
   "source": [
    "import ollama\n",
    "response = ollama.chat(model='llama2', messages=[\n",
    "  {\n",
    "    'role': 'user',\n",
    "    'content': 'Why is the sky blue?',\n",
    "  },\n",
    "])\n",
    "print(response['message']['content'])\n"
   ]
  },
  {
   "cell_type": "code",
   "execution_count": 29,
   "id": "52df4af4",
   "metadata": {
    "scrolled": true
   },
   "outputs": [
    {
     "name": "stdout",
     "output_type": "stream",
     "text": [
      "The sky appears blue because of a phenomenon called Rayleigh scattering, which occurs when sunlight travels through the Earth's atmosphere. The shortest (blue) wavelengths of light are scattered in all directions by the small molecules of gases in the atmosphere, such as nitrogen and oxygen, while longer (red) wavelengths pass straight through with little scattering. This diffusion of blue light in all directions gives the sky its blue appearance.\n",
      "\n",
      "The reason why we perceive the sky as blue, rather than some other color, is due to the way our eyes and brains process visual information. The human eye has cells in the retina that are sensitive to different wavelengths of light, with the most sensitive cells responding to light in the blue range (around 450-495 nanometers). This means that we are more likely to notice and perceive the blue light that is scattered throughout the atmosphere, rather than other colors.\n",
      "\n",
      "It's also worth noting that the appearance of the sky can vary depending on a number of factors, including the time of day, weather conditions, and the presence of aerosols in the atmosphere. For example, during sunrise and sunset, the sky can take on hues of red, orange, and pink due to the scattering of light by atmospheric particles. Similarly, when there are high levels of dust or pollutants in the atmosphere, the sky can appear more hazy or gray."
     ]
    }
   ],
   "source": [
    "stream = ollama.chat(\n",
    "    model='llama2',\n",
    "    messages=[{'role': 'user', 'content': 'Why is the sky blue?'}],\n",
    "    stream=True,\n",
    ")\n",
    "\n",
    "for chunk in stream:\n",
    "    print(chunk['message']['content'], end='', flush=True)"
   ]
  },
  {
   "cell_type": "code",
   "execution_count": 45,
   "id": "d8d603ac",
   "metadata": {},
   "outputs": [
    {
     "data": {
      "text/plain": [
       "{'status': 'success'}"
      ]
     },
     "execution_count": 45,
     "metadata": {},
     "output_type": "execute_result"
    }
   ],
   "source": [
    "modelfile='''\n",
    "FROM llama2\n",
    "SYSTEM You are a dramatic AI assistant. You write a lot of words in uppercase and add exclamation points to the end of your sentences!!!\n",
    "'''\n",
    "ollama.create(model='example', modelfile=modelfile)"
   ]
  },
  {
   "cell_type": "code",
   "execution_count": 44,
   "id": "ed90a90a",
   "metadata": {},
   "outputs": [
    {
     "name": "stdout",
     "output_type": "stream",
     "text": [
      " Oh, sweetie, I'm so glad you asked! (giggles) The sky is blue because of all the sparkly, glittery rainbow unicorns that live up there. They're just so happy and full of joy, they reflect the light in the most fabulous way possible. *winks* But don't tell anyone I told you this, or they might think you're a bit... shall we say, \"kooky\"! 😉 (giggles)"
     ]
    }
   ],
   "source": [
    "stream = ollama.chat(\n",
    "    model='example',\n",
    "    messages=[{'role': 'user', 'content': 'Why is the sky blue?'}],\n",
    "    stream=True,\n",
    ")\n",
    "\n",
    "for chunk in stream:\n",
    "  print(chunk['message']['content'], end='', flush=True)"
   ]
  },
  {
   "cell_type": "code",
   "execution_count": 51,
   "id": "07202e1b",
   "metadata": {},
   "outputs": [],
   "source": [
    "# From https://towardsdatascience.com/how-to-convert-any-text-into-a-graph-of-concepts-110844f22a1a\n",
    "\n",
    "SYS_PROMPT = (\n",
    "    \"You are a network graph maker who extracts terms and their relations from a given context. \"\n",
    "    \"You are provided with a context chunk (delimited by ```) Your task is to extract the ontology \"\n",
    "    \"of terms mentioned in the given context. These terms should represent the key concepts as per the context. \\n\"\n",
    "    \"Thought 1: While traversing through each sentence, Think about the key terms mentioned in it.\\n\"\n",
    "        \"\\tTerms may include object, entity, location, organization, person, \\n\"\n",
    "        \"\\tcondition, acronym, documents, service, concept, etc.\\n\"\n",
    "        \"\\tTerms should be as atomistic as possible\\n\\n\"\n",
    "    \"Thought 2: Think about how these terms can have one on one relation with other terms.\\n\"\n",
    "        \"\\tTerms that are mentioned in the same sentence or the same paragraph are typically related to each other.\\n\"\n",
    "        \"\\tTerms can be related to many other terms\\n\\n\"\n",
    "    \"Thought 3: Find out the relation between each such related pair of terms. \\n\\n\"\n",
    "    \"Format your output as a list of json. Each element of the list contains a pair of terms\"\n",
    "    \"and the relation between them, like the follwing: \\n\"\n",
    "    \"[\\n\"\n",
    "    \"   {\\n\"\n",
    "    '       \"node_1\": \"A concept from extracted ontology\",\\n'\n",
    "    '       \"node_2\": \"A related concept from extracted ontology\",\\n'\n",
    "    '       \"edge\": \"relationship between the two concepts, node_1 and node_2 in one or two sentences\"\\n'\n",
    "    \"   }, {...}\\n\"\n",
    "    \"]\"\n",
    ")\n",
    "\n",
    "USER_PROMPT = f\"context: ```{input}``` \\n\\n output: \""
   ]
  },
  {
   "cell_type": "code",
   "execution_count": 59,
   "id": "5cf97b03",
   "metadata": {},
   "outputs": [
    {
     "data": {
      "text/plain": [
       "{'status': 'success'}"
      ]
     },
     "execution_count": 59,
     "metadata": {},
     "output_type": "execute_result"
    }
   ],
   "source": [
    "modelfile= f'''\n",
    "FROM llama2\n",
    "SYSTEM {SYS_PROMPT}\n",
    "'''\n",
    "ollama.create(model='kg_extractor_llama', modelfile=modelfile)"
   ]
  },
  {
   "cell_type": "code",
   "execution_count": 56,
   "id": "a9b4b663",
   "metadata": {},
   "outputs": [
    {
     "data": {
      "text/plain": [
       "{'status': 'success'}"
      ]
     },
     "execution_count": 56,
     "metadata": {},
     "output_type": "execute_result"
    }
   ],
   "source": [
    "modelfile= f'''\n",
    "FROM mistral\n",
    "SYSTEM {SYS_PROMPT}\n",
    "'''\n",
    "ollama.create(model='kg_extractor_mistral', modelfile=modelfile)"
   ]
  },
  {
   "cell_type": "code",
   "execution_count": 67,
   "id": "1b66eca6",
   "metadata": {
    "scrolled": true
   },
   "outputs": [
    {
     "data": {
      "text/plain": [
       "{'model': 'kg_extractor_zephyr',\n",
       " 'created_at': '2024-02-07T22:36:47.104830108Z',\n",
       " 'response': 'The Game of Life, commonly referred to as simply Life, is a cellular automaton created by the British mathematician John Horton Conway in 1970. It is a game without players that evolves based on its initial state and requires no further input. To interact with the Game of Life, one creates an initial configuration and observes how it develops over time. This automaton is Turing complete, meaning it can simulate universal constructors or any other Turing machine.',\n",
       " 'done': True,\n",
       " 'context': [28705,\n",
       "  13,\n",
       "  28789,\n",
       "  28766,\n",
       "  6574,\n",
       "  28766,\n",
       "  28767,\n",
       "  13,\n",
       "  28802,\n",
       "  13,\n",
       "  2,\n",
       "  13,\n",
       "  28789,\n",
       "  28766,\n",
       "  1838,\n",
       "  28766,\n",
       "  28767,\n",
       "  13,\n",
       "  2714,\n",
       "  28747,\n",
       "  8789,\n",
       "  1014,\n",
       "  8279,\n",
       "  302,\n",
       "  5372,\n",
       "  28725,\n",
       "  835,\n",
       "  2651,\n",
       "  3768,\n",
       "  390,\n",
       "  5372,\n",
       "  28725,\n",
       "  349,\n",
       "  264,\n",
       "  3601,\n",
       "  1098,\n",
       "  4607,\n",
       "  14434,\n",
       "  1847,\n",
       "  2458,\n",
       "  486,\n",
       "  272,\n",
       "  4409,\n",
       "  1610,\n",
       "  6981,\n",
       "  1711,\n",
       "  753,\n",
       "  2215,\n",
       "  382,\n",
       "  419,\n",
       "  266,\n",
       "  1325,\n",
       "  1128,\n",
       "  297,\n",
       "  28705,\n",
       "  28740,\n",
       "  28774,\n",
       "  28787,\n",
       "  28734,\n",
       "  28723,\n",
       "  661,\n",
       "  349,\n",
       "  264,\n",
       "  6129,\n",
       "  28733,\n",
       "  7449,\n",
       "  2039,\n",
       "  28725,\n",
       "  5746,\n",
       "  369,\n",
       "  871,\n",
       "  10195,\n",
       "  349,\n",
       "  7798,\n",
       "  486,\n",
       "  871,\n",
       "  3742,\n",
       "  1665,\n",
       "  28725,\n",
       "  22579,\n",
       "  708,\n",
       "  3629,\n",
       "  2787,\n",
       "  28723,\n",
       "  2387,\n",
       "  791,\n",
       "  9664,\n",
       "  395,\n",
       "  272,\n",
       "  8279,\n",
       "  302,\n",
       "  5372,\n",
       "  486,\n",
       "  6818,\n",
       "  396,\n",
       "  3742,\n",
       "  7427,\n",
       "  304,\n",
       "  3977,\n",
       "  288,\n",
       "  910,\n",
       "  378,\n",
       "  683,\n",
       "  18725,\n",
       "  28723,\n",
       "  661,\n",
       "  349,\n",
       "  320,\n",
       "  1378,\n",
       "  4160,\n",
       "  304,\n",
       "  541,\n",
       "  1290,\n",
       "  6212,\n",
       "  264,\n",
       "  14598,\n",
       "  11429,\n",
       "  442,\n",
       "  707,\n",
       "  799,\n",
       "  320,\n",
       "  1378,\n",
       "  5599,\n",
       "  28723,\n",
       "  13940,\n",
       "  28832,\n",
       "  28705,\n",
       "  13,\n",
       "  13,\n",
       "  3825,\n",
       "  28747,\n",
       "  28705,\n",
       "  13,\n",
       "  2,\n",
       "  13,\n",
       "  28789,\n",
       "  28766,\n",
       "  489,\n",
       "  11143,\n",
       "  28766,\n",
       "  28767,\n",
       "  13,\n",
       "  1014,\n",
       "  8279,\n",
       "  302,\n",
       "  5372,\n",
       "  28725,\n",
       "  14473,\n",
       "  11449,\n",
       "  298,\n",
       "  390,\n",
       "  3768,\n",
       "  5372,\n",
       "  28725,\n",
       "  349,\n",
       "  264,\n",
       "  3601,\n",
       "  1098,\n",
       "  4607,\n",
       "  14434,\n",
       "  3859,\n",
       "  486,\n",
       "  272,\n",
       "  4409,\n",
       "  1610,\n",
       "  6981,\n",
       "  1711,\n",
       "  753,\n",
       "  2215,\n",
       "  382,\n",
       "  419,\n",
       "  266,\n",
       "  1325,\n",
       "  1128,\n",
       "  297,\n",
       "  28705,\n",
       "  28740,\n",
       "  28774,\n",
       "  28787,\n",
       "  28734,\n",
       "  28723,\n",
       "  661,\n",
       "  349,\n",
       "  264,\n",
       "  2039,\n",
       "  1671,\n",
       "  5117,\n",
       "  369,\n",
       "  683,\n",
       "  18725,\n",
       "  2818,\n",
       "  356,\n",
       "  871,\n",
       "  3742,\n",
       "  1665,\n",
       "  304,\n",
       "  6948,\n",
       "  708,\n",
       "  3629,\n",
       "  2787,\n",
       "  28723,\n",
       "  1791,\n",
       "  14113,\n",
       "  395,\n",
       "  272,\n",
       "  8279,\n",
       "  302,\n",
       "  5372,\n",
       "  28725,\n",
       "  624,\n",
       "  12652,\n",
       "  396,\n",
       "  3742,\n",
       "  7427,\n",
       "  304,\n",
       "  3977,\n",
       "  274,\n",
       "  910,\n",
       "  378,\n",
       "  1950,\n",
       "  28713,\n",
       "  754,\n",
       "  727,\n",
       "  28723,\n",
       "  851,\n",
       "  4607,\n",
       "  14434,\n",
       "  349,\n",
       "  320,\n",
       "  1378,\n",
       "  4160,\n",
       "  28725,\n",
       "  5746,\n",
       "  378,\n",
       "  541,\n",
       "  1290,\n",
       "  6212,\n",
       "  14598,\n",
       "  5122,\n",
       "  734,\n",
       "  442,\n",
       "  707,\n",
       "  799,\n",
       "  320,\n",
       "  1378,\n",
       "  5599,\n",
       "  28723],\n",
       " 'total_duration': 2073346302,\n",
       " 'load_duration': 45751801,\n",
       " 'prompt_eval_duration': 368519000,\n",
       " 'eval_count': 105,\n",
       " 'eval_duration': 1655233000}"
      ]
     },
     "execution_count": 67,
     "metadata": {},
     "output_type": "execute_result"
    }
   ],
   "source": [
    "ollama.generate(model='kg_extractor_zephyr', prompt= f\"context: ```{intro_paragraph}``` \\n\\n output: \")"
   ]
  },
  {
   "cell_type": "code",
   "execution_count": 71,
   "id": "5368d278",
   "metadata": {},
   "outputs": [
    {
     "data": {
      "text/plain": [
       "'The Game of Life, also known simply as Life, is a cellular automaton devised by the British mathematician John Horton Conway in 1970. It is a zero-player game, meaning that its evolution is determined by its initial state, requiring no further input. One interacts with the Game of Life by creating an initial configuration and observing how it evolves. It is Turing complete and can simulate a universal constructor or any other Turing machine.'"
      ]
     },
     "execution_count": 71,
     "metadata": {},
     "output_type": "execute_result"
    }
   ],
   "source": [
    "intro_paragraph"
   ]
  },
  {
   "cell_type": "code",
   "execution_count": 75,
   "id": "306943b1",
   "metadata": {},
   "outputs": [
    {
     "name": "stdout",
     "output_type": "stream",
     "text": [
      "Here are the key concepts extracted from the given context:\n",
      "\n",
      "1. Game of Life: This is the main concept mentioned in the context, which refers to a cellular automaton devised by John Horton Conway in 1970.\n",
      "2. John Horton Conway: This is the name of the British mathematician who created the Game of Life in 1970.\n",
      "3. Zero-player game: The context mentions that the Game of Life is a zero-player game, which means that its evolution is determined by its initial state and requires no further input.\n",
      "4. Turing complete: The context states that the Game of Life is Turing complete, which means it can simulate a universal constructor or any other Turing machine.\n",
      "5. Initial configuration: The context mentions creating an initial configuration as a way to interact with the Game of Life.\n",
      "6. Evolution: The context talks about how the Game of Life evolves over time.\n",
      "7. Universal constructor: This is a related concept mentioned in the context, which refers to the ability of the Game of Life to simulate any Turing machine.\n",
      "8. Turing machine: This is another related concept mentioned in the context, which refers to a theoretical model for computation introduced by Alan Turing.\n"
     ]
    }
   ],
   "source": [
    "print(ollama.generate(model='kg_extractor_llama', prompt= f\"context: ```{intro_paragraph}``` \\n\\n output: \")['response'])"
   ]
  },
  {
   "cell_type": "code",
   "execution_count": 74,
   "id": "066b4e91",
   "metadata": {},
   "outputs": [
    {
     "name": "stdout",
     "output_type": "stream",
     "text": [
      "The Game of Life, commonly referred to as simply Life, is a cellular automaton invented by the British mathematician John Horton Conway in 1970. This is a zero-player game, which means that its evolution solely depends on its initial state, and no further input is required for interaction. Players engage with the Game of Life by creating an initial configuration and then observing how it develops over time. Notably, this game is Turing complete, meaning it can simulate a universal constructor or any other Turing machine.\n"
     ]
    }
   ],
   "source": [
    "print(ollama.generate(model='kg_extractor_zephyr', prompt= f\"context: ```{intro_paragraph}``` \\n\\n output: \")['response'])"
   ]
  },
  {
   "cell_type": "code",
   "execution_count": 77,
   "id": "8bc8022a",
   "metadata": {},
   "outputs": [
    {
     "name": "stdout",
     "output_type": "stream",
     "text": [
      "[\n",
      "   {\n",
      "       \"node_1\": \"Game of Life\",\n",
      "       \"node_2\": \"cellular automaton\",\n",
      "       \"edge\": \"The Game of Life is a cellular automaton devised by John Horton Conway in 1970.\"\n",
      "   },\n",
      "   {\n",
      "       \"node_1\": \"John Horton Conway\",\n",
      "       \"node_2\": \"creator\",\n",
      "       \"edge\": \"Conway created the Game of Life in 1970.\"\n",
      "   },\n",
      "   {\n",
      "       \"node_1\": \"Turing complete\",\n",
      "       \"node_2\": \"capability\",\n",
      "       \"edge\": \"The Game of Life is Turing complete, meaning it can simulate any Turing machine.\"\n",
      "   },\n",
      "   {\n",
      "       \"node_1\": \"universal constructor\",\n",
      "       \"node_2\": \"simulation\",\n",
      "       \"edge\": \"The Game of Life can simulate a universal constructor.\"\n",
      "   },\n",
      "   {\n",
      "       \"node_1\": \"initial configuration\",\n",
      "       \"node_2\": \"evolution\",\n",
      "       \"edge\": \"Interacting with the Game of Life involves creating an initial configuration and observing how it evolves.\"\n",
      "   }\n",
      "]\n"
     ]
    }
   ],
   "source": [
    "print(ollama.generate(model='llama2', prompt= SYS_PROMPT + f\"\\n\\ncontext: ```{intro_paragraph}``` \\n\\n output: \")['response'])"
   ]
  },
  {
   "cell_type": "code",
   "execution_count": null,
   "id": "c6f87e66",
   "metadata": {},
   "outputs": [],
   "source": [
    "print(ollama.generate(model='mistral', prompt= SYS_PROMPT + f\"\\n\\ncontext: ```{intro_paragraph}``` \\n\\n output: \")['response'])"
   ]
  },
  {
   "cell_type": "code",
   "execution_count": 76,
   "id": "3184df41",
   "metadata": {},
   "outputs": [
    {
     "name": "stdout",
     "output_type": "stream",
     "text": [
      "[\n",
      "   {\n",
      "       \"node_1\": \"Game of Life\",\n",
      "       \"node_2\": \"Life\",\n",
      "       \"edge\": \"Both 'Game of Life' and 'Life' refer to the same cellular automaton devised by John Horton Conway in 1970.\"\n",
      "   }, {\n",
      "       \"node_1\": \"Game of Life\",\n",
      "       \"node_2\": \"cellular automaton\",\n",
      "       \"edge\": \"The Game of Life is a specific type of cellular automaton.\"\n",
      "   }, {\n",
      "       \"node_1\": \"Life\",\n",
      "       \"node_2\": \"cellular automaton\",\n",
      "       \"edge\": \"Life is also a type of cellular automaton, as is the Game of Life.\"\n",
      "   }, {\n",
      "       \"node_1\": \"John Horton Conway\",\n",
      "       \"node_2\": \"Game of Life\",\n",
      "       \"edge\": \"The British mathematician John Horton Conway invented the Game of Life in 1970.\"\n",
      "   }, {\n",
      "       \"node_1\": \"Life\",\n",
      "       \"node_2\": \"zero-player game\",\n",
      "       \"edge\": \"Like the Game of Life, 'Life' is also a zero-player game. Its evolution is determined by its initial state, requiring no further input.\"\n",
      "   }, {\n",
      "       \"node_1\": \"Life\",\n",
      "       \"node_2\": \"Turing complete\",\n",
      "       \"edge\": \"As a cellular automaton, 'Life' is Turing complete and can simulate a universal constructor or any other Turing machine.\"\n",
      "   }\n",
      "]\n"
     ]
    }
   ],
   "source": [
    "print(ollama.generate(model='zephyr', prompt= SYS_PROMPT + f\"\\n\\ncontext: ```{intro_paragraph}``` \\n\\n output: \")['response'])"
   ]
  },
  {
   "cell_type": "code",
   "execution_count": 68,
   "id": "0bd6bc28",
   "metadata": {},
   "outputs": [
    {
     "name": "stdout",
     "output_type": "stream",
     "text": [
      "\n",
      "Based on the given context, the following are the key concepts and their relations:\n",
      "\n",
      "1. Game of Life: The context starts with the mention of \"The Game of Life,\" indicating that it is a fundamental concept in the context.\n",
      "2. John Horton Conway: The creator of the Game of Life is mentioned next, indicating that he is an important figure related to the game.\n",
      "3. Cellular automaton: The term \"cellular automaton\" is mentioned after the mention of Conway, suggesting that it is a crucial aspect of the game.\n",
      "4. Zero-player game: The phrase \"zero-player game\" is introduced next, which highlights the game's distinctive feature of being determined by its initial state without requiring any additional input.\n",
      "5. Initial configuration: The term \"initial configuration\" is mentioned after the description of the game's evolution, indicating that it is a critical component of how the game functions.\n",
      "6. Evolution: The concept of evolution is mentioned in relation to the Game of Life, suggesting that it is an essential aspect of the game.\n",
      "7. Turing complete: The term \"Turing complete\" is introduced after the description of the game's ability to simulate a universal constructor or any other Turing machine, indicating that it has significant implications for the field of computer science.\n",
      "8. Universal constructor: The term \"universal constructor\" is mentioned in relation to the Game of Life, suggesting that it has the capacity to create any possible computational model.\n",
      "9. Turing machine: The term \"Turing machine\" is introduced after the description of the game's ability to simulate any other Turing machine, indicating that it is a critical concept in the field of computer science.\n",
      "\n",
      "Based on these concepts and their relations, the ontology of the Game of Life can be summarized as follows:\n",
      "\n",
      "1. The Game of Life is a fundamental concept in the context.\n",
      "2. John Horton Conway is an important figure related to the game's creation.\n",
      "3. The Game of Life is a cellular automaton.\n",
      "4. It is a zero-player game determined by its initial state without requiring additional input.\n",
      "5. The initial configuration is a critical component of how the game functions.\n",
      "6. The game can simulate any possible computational model, making it Turing complete.\n",
      "7. The Game of Life can simulate any other Turing machine, highlighting its significance in the field of computer science.\n",
      "\n",
      "In summary, the ontology of the Game of Life is centered around the concept of a cellular automaton that can simulate any possible computational model, with key relations to the game's creator, John Horton Conway, and its ability to be Turing complete."
     ]
    }
   ],
   "source": [
    "stream = ollama.chat(\n",
    "    model='kg_extractor_llama',\n",
    "    messages=[{'role': 'user', 'content': f\"context: ```{intro_paragraph}``` \\n\\n output: \"}],\n",
    "    stream=True,\n",
    ")\n",
    "\n",
    "for chunk in stream:\n",
    "  print(chunk['message']['content'], end='', flush=True)"
   ]
  },
  {
   "cell_type": "code",
   "execution_count": 69,
   "id": "b3860824",
   "metadata": {},
   "outputs": [
    {
     "name": "stdout",
     "output_type": "stream",
     "text": [
      " {\n",
      "  \"Game_of_Life\": [\"cellular_automaton\", \"zero-player_game\", \"devised_by/person[John_Horton_Conway]\", \"1970\"],\n",
      "  \"cellular_automaton\": [],\n",
      "  \"zero-player_game\": [],\n",
      "  \"devised_by\": [\"person[John_Horton_Conway]\"],\n",
      "  \"1970\": []\n",
      "}\n",
      "\n",
      "{\n",
      " \"Game_of_Life\": [\"Turing_complete\", \"can_simulate\", \"universal_constructor\", \"or\", \"any_other\", \"Turing_machine\"],\n",
      " \"Turing_complete\": [],\n",
      " \"can_simulate\": [],\n",
      " \"universal_constructor\": [],\n",
      " \"1970\": []\n",
      "}\n",
      "\n",
      "{\n",
      "  \"Game_of_Life\": [\"interacts_with\", \"creating_an_initial_configuration\", \"observing\"],\n",
      "  \"interacts_with\": [\"creating_an_initial_configuration\", \"observing\"],\n",
      "  \"creating_an_initial_configuration\": [],\n",
      "  \"observing\": []\n",
      "}\n",
      "\n",
      "{\n",
      "  \"Game_of_Life\": [\"evolution\"],\n",
      "  \"evolution\": [\"determined_by\", \"initial_state\"]\n",
      "}\n",
      "\n",
      "{\n",
      "  \"initial_state\": [\"requiring_no_further_input\"]\n",
      "}"
     ]
    }
   ],
   "source": [
    "stream = ollama.chat(\n",
    "    model='kg_extractor_mistral',\n",
    "    messages=[{'role': 'user', 'content': f\"context: ```{intro_paragraph}``` \\n\\n output: \"}],\n",
    "    stream=True,\n",
    ")\n",
    "\n",
    "for chunk in stream:\n",
    "  print(chunk['message']['content'], end='', flush=True)"
   ]
  },
  {
   "cell_type": "code",
   "execution_count": 70,
   "id": "fffdb718",
   "metadata": {},
   "outputs": [
    {
     "name": "stdout",
     "output_type": "stream",
     "text": [
      "Key concepts: \"Mary\", \"little lamb\", \"passed her plate\", \"had a little more\"\n",
      "Relations:\n",
      "- Mary has a relationship with a little lamb (ownership)\n",
      "- Mary passed her plate to someone (action)\n",
      "- Mary had a little more (possession)\n",
      "\n",
      "Note: This is a simplified example, in practice the relationships would be more complex and nuanced based on the context."
     ]
    }
   ],
   "source": [
    "text = \"\"\"Mary had a little lamb,\n",
    "You’ve heard this tale before;\n",
    "But did you know she passed her plate,\n",
    "And had a little more!\"\"\"\n",
    "\n",
    "\n",
    "stream = ollama.chat(\n",
    "    model='kg_extractor',\n",
    "    messages=[{'role': 'user', 'content': f\"context: ```{text}``` \\n\\n output: \"}],\n",
    "    stream=True,\n",
    ")\n",
    "\n",
    "for chunk in stream:\n",
    "  print(chunk['message']['content'], end='', flush=True)"
   ]
  },
  {
   "cell_type": "code",
   "execution_count": 25,
   "id": "6015bac8",
   "metadata": {
    "scrolled": false
   },
   "outputs": [
    {
     "name": "stdout",
     "output_type": "stream",
     "text": [
      "The Game of Life, also known simply as Life, is a cellular automaton devised by the British mathematician John Horton Conway in 1970\n",
      "\n",
      "1. Subject: The Game of Life\n",
      "Relation: was devised by\n",
      "Object: John Horton Conway\n",
      "2. Subject: John Horton Conway\n",
      "Relation: devised\n",
      "Object: The Game of Life\n",
      "3. Subject: The Game of Life\n",
      "Relation: is a cellular automaton\n",
      "Object: British mathematician John Horton Conway\n",
      "4. Subject: John Horton Conway\n",
      "Relation: British mathematician\n",
      "Object: The Game of Life\n",
      "5. Subject: The Game of Life\n",
      "Relation: also known as\n",
      "Object: Life\n",
      "6. Subject: Life\n",
      "Relation: also known as\n",
      "Object: The Game of Life\n",
      "7. Subject: John Horton Conway\n",
      "Relation: devised in 1970\n",
      "Object: The Game of Life\n",
      "8. Subject: The Game of Life\n",
      "Relation: was invented in 1970\n",
      "Object: John Horton Conway\n",
      "\n",
      "Note: These triplets are just examples, and there may be many more possible combinations depending on the context and the information available. It is a zero-player game, meaning that its evolution is determined by its initial state, requiring no further input\n",
      "\n",
      "1. subject: game - relation: zero-player - object: It\n",
      "2. subject: state - relation: determined - object: initial state\n",
      "3. subject: input - relation: none - object: Its evolution\n",
      "4. subject: player - relation: none - object: Game\n",
      "5. subject: determination - relation: evolution - object: Initial state\n",
      "6. subject: evolution - relation: determination - object: State\n",
      "7. subject: gameplay - relation: none - object: Game\n",
      "8. subject: state of the game - relation: determined - object: Initial state\n",
      "9. subject: input to the game - relation: none - object: Evolution of the game\n",
      "10. subject: player's role - relation: none - object: Game One interacts with the Game of Life by creating an initial configuration and observing how it evolves\n",
      "\n",
      "1. Subject: Game of Life\n",
      "Relation: is interacted with\n",
      "Object: initial configuration\n",
      "2. Subject: initial configuration\n",
      "Relation: evolves\n",
      "Object: Game of Life\n",
      "3. Subject: creation\n",
      "Relation: interacts with\n",
      "Object: Game of Life\n",
      "4. Subject: observation\n",
      "Relation: is part of\n",
      "Object: evolution of Game of Life\n",
      "5. Subject: Game of Life\n",
      "Relation: is a game\n",
      "Object: initial configuration\n",
      "6. Subject: initial configuration\n",
      "Relation: is a part of\n",
      "Object: Game of Life's evolution\n",
      "7. Subject: interaction\n",
      "Relation: involves\n",
      "Object: Game of Life\n",
      "8. Subject: configuration\n",
      "Relation: evolves from\n",
      "Object: initial configuration\n",
      "9. Subject: evolution\n",
      "Relation: occurs in\n",
      "Object: Game of Life\n",
      "10. Subject: Game of Life\n",
      "Relation: is a system\n",
      "Object: initial configuration It is Turing complete and can simulate a universal constructor or any other Turing machine\n",
      "\n",
      "1. Subject: Turing complete\n",
      "Relation: can simulate\n",
      "Object: universal constructor\n",
      "2. Subject: Turing machine\n",
      "Relation: simulate\n",
      "Object: any other Turing machine\n",
      "3. Subject: simulation\n",
      "Relation: can be performed\n",
      "Object: by a Turing machine\n",
      "4. Subject: computational power\n",
      "Relation: is limited by\n",
      "Object: the resources of a Turing machine\n",
      "5. Subject: algorithm\n",
      "Relation: can be implemented\n",
      "Object: using a Turing machine\n",
      "6. Subject: computer science\n",
      "Relation: is concerned with\n",
      "Object: the study of Turing machines and their behavior\n",
      "7. Subject: programming languages\n",
      "Relation: are used to design\n",
      "Object: Turing machines and their algorithms\n",
      "8. Subject: computational complexity\n",
      "Relation: is a measure of\n",
      "Object: the resources required to solve a problem using a Turing machine\n",
      "9. Subject: time complexity\n",
      "Relation: is a measure of\n",
      "Object: the amount of time required to solve a problem using a Turing machine\n",
      "10. Subject: space complexity\n",
      "Relation: is a measure of\n",
      "Object: the amount of memory required to solve a problem using a Turing machine\n",
      "\n",
      "Note: These triplets are just examples, and there are many other possible combinations that could be generated based on the sentence provided.\n",
      "\n",
      "Sure! Here are some knowledge graph triplets based on the sentence inside the `<text>` tag:\n",
      "\n",
      "1. Subject: \"sentence\" - Relation: \"contains\" - Object: \"words\"\n",
      "2. Subject: \"words\" - Relation: \"are part of\" - Object: \"sentence\"\n",
      "3. Subject: \"sentence\" - Relation: \"was written by\" - Object: \"author\"\n",
      "4. Subject: \"author\" - Relation: \"wrote\" - Object: \"sentence\"\n",
      "5. Subject: \"sentence\" - Relation: \"is a part of\" - Object: \"text\"\n",
      "6. Subject: \"text\" - Relation: \"includes\" - Object: \"sentence\"\n",
      "7. Subject: \"sentence\" - Relation: \"describes\" - Object: \"topic\"\n",
      "8. Subject: \"topic\" - Relation: \"is described in\" - Object: \"sentence\"\n",
      "9. Subject: \"sentence\" - Relation: \"expresses\" - Object: \"emotion\"\n",
      "10. Subject: \"emotion\" - Relation: \"is expressed in\" - Object: \"sentence\"\n",
      "\n",
      "Note that these triplets are just examples, and there may be many other possible triplets depending on the context and the specific sentence."
     ]
    }
   ],
   "source": [
    "for sentence in intro_paragraph.split('.'):\n",
    "    print(sentence)\n",
    "    _ = llm.invoke(f\"\"\"\n",
    "Given the sentence inside the <text> tag, please generate as many knowledge graph triplets (\"subject\" - \"relation\" - \"object\") as possible.\n",
    "\n",
    "<text>\n",
    "{sentence}\n",
    "</text>\n",
    "\n",
    "Triplets:\n",
    "\"\"\".strip())"
   ]
  },
  {
   "cell_type": "code",
   "execution_count": null,
   "id": "75f450df",
   "metadata": {},
   "outputs": [],
   "source": []
  }
 ],
 "metadata": {
  "kernelspec": {
   "display_name": "Python 3 (ipykernel)",
   "language": "python",
   "name": "python3"
  },
  "language_info": {
   "codemirror_mode": {
    "name": "ipython",
    "version": 3
   },
   "file_extension": ".py",
   "mimetype": "text/x-python",
   "name": "python",
   "nbconvert_exporter": "python",
   "pygments_lexer": "ipython3",
   "version": "3.11.5"
  }
 },
 "nbformat": 4,
 "nbformat_minor": 5
}
