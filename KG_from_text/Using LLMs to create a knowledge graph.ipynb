{
 "cells": [
  {
   "cell_type": "code",
   "execution_count": 27,
   "id": "0d28bc26",
   "metadata": {},
   "outputs": [
    {
     "name": "stdout",
     "output_type": "stream",
     "text": [
      "Collecting ollama\n",
      "  Obtaining dependency information for ollama from https://files.pythonhosted.org/packages/5d/aa/a0fc92ef5843aae9bbd7414305b2aad3e267b1cda89d3e4ea785b48d3b2f/ollama-0.1.4-py3-none-any.whl.metadata\n",
      "  Downloading ollama-0.1.4-py3-none-any.whl.metadata (3.8 kB)\n",
      "Requirement already satisfied: httpx<0.26.0,>=0.25.2 in c:\\users\\harri\\anaconda3\\lib\\site-packages (from ollama) (0.25.2)\n",
      "Requirement already satisfied: anyio in c:\\users\\harri\\anaconda3\\lib\\site-packages (from httpx<0.26.0,>=0.25.2->ollama) (3.7.1)\n",
      "Requirement already satisfied: certifi in c:\\users\\harri\\anaconda3\\lib\\site-packages (from httpx<0.26.0,>=0.25.2->ollama) (2023.11.17)\n",
      "Requirement already satisfied: httpcore==1.* in c:\\users\\harri\\anaconda3\\lib\\site-packages (from httpx<0.26.0,>=0.25.2->ollama) (1.0.2)\n",
      "Requirement already satisfied: idna in c:\\users\\harri\\anaconda3\\lib\\site-packages (from httpx<0.26.0,>=0.25.2->ollama) (3.4)\n",
      "Requirement already satisfied: sniffio in c:\\users\\harri\\anaconda3\\lib\\site-packages (from httpx<0.26.0,>=0.25.2->ollama) (1.2.0)\n",
      "Requirement already satisfied: h11<0.15,>=0.13 in c:\\users\\harri\\anaconda3\\lib\\site-packages (from httpcore==1.*->httpx<0.26.0,>=0.25.2->ollama) (0.14.0)\n",
      "Downloading ollama-0.1.4-py3-none-any.whl (8.0 kB)\n",
      "Installing collected packages: ollama\n",
      "Successfully installed ollama-0.1.4\n"
     ]
    }
   ],
   "source": [
    "# ! pip install requests\n",
    "# ! pip install bs4\n",
    "# ! pip install ollama"
   ]
  },
  {
   "cell_type": "code",
   "execution_count": 7,
   "id": "3f0c0c79",
   "metadata": {},
   "outputs": [
    {
     "name": "stdout",
     "output_type": "stream",
     "text": [
      "Mon Jan 29 19:43:54 2024       \n",
      "+---------------------------------------------------------------------------------------+\n",
      "| NVIDIA-SMI 536.67                 Driver Version: 536.67       CUDA Version: 12.2     |\n",
      "|-----------------------------------------+----------------------+----------------------+\n",
      "| GPU  Name                     TCC/WDDM  | Bus-Id        Disp.A | Volatile Uncorr. ECC |\n",
      "| Fan  Temp   Perf          Pwr:Usage/Cap |         Memory-Usage | GPU-Util  Compute M. |\n",
      "|                                         |                      |               MIG M. |\n",
      "|=========================================+======================+======================|\n",
      "|   0  NVIDIA GeForce RTX 4070      WDDM  | 00000000:24:00.0  On |                  N/A |\n",
      "|  0%   35C    P3              19W / 200W |   6553MiB / 12282MiB |      0%      Default |\n",
      "|                                         |                      |                  N/A |\n",
      "+-----------------------------------------+----------------------+----------------------+\n",
      "                                                                                         \n",
      "+---------------------------------------------------------------------------------------+\n",
      "| Processes:                                                                            |\n",
      "|  GPU   GI   CI        PID   Type   Process name                            GPU Memory |\n",
      "|        ID   ID                                                             Usage      |\n",
      "|=======================================================================================|\n",
      "|    0   N/A  N/A      3388    C+G   ...4.0_x64__cv1g1gvanyjgm\\WhatsApp.exe    N/A      |\n",
      "|    0   N/A  N/A      3920    C+G   ...ekyb3d8bbwe\\PhoneExperienceHost.exe    N/A      |\n",
      "|    0   N/A  N/A      5220    C+G   ...Godot\\Godot_v4.1.1-stable_win64.exe    N/A      |\n",
      "|    0   N/A  N/A      5988    C+G   ...__8wekyb3d8bbwe\\WindowsTerminal.exe    N/A      |\n",
      "|    0   N/A  N/A      8144    C+G   C:\\Windows\\explorer.exe                   N/A      |\n",
      "|    0   N/A  N/A      8468    C+G   ...5n1h2txyewy\\ShellExperienceHost.exe    N/A      |\n",
      "|    0   N/A  N/A      8528    C+G   ...crosoft\\Edge\\Application\\msedge.exe    N/A      |\n",
      "|    0   N/A  N/A      8980    C+G   ...nt.CBS_cw5n1h2txyewy\\SearchHost.exe    N/A      |\n",
      "|    0   N/A  N/A      9004    C+G   ...2txyewy\\StartMenuExperienceHost.exe    N/A      |\n",
      "|    0   N/A  N/A     11140    C+G   ...oogle\\Chrome\\Application\\chrome.exe    N/A      |\n",
      "|    0   N/A  N/A     14128    C+G   ...CBS_cw5n1h2txyewy\\TextInputHost.exe    N/A      |\n",
      "|    0   N/A  N/A     14460    C+G   ...siveControlPanel\\SystemSettings.exe    N/A      |\n",
      "|    0   N/A  N/A     16244    C+G   ...cal\\Microsoft\\OneDrive\\OneDrive.exe    N/A      |\n",
      "|    0   N/A  N/A     16468    C+G   ...\\AMD\\CNext\\CNext\\RadeonSoftware.exe    N/A      |\n",
      "|    0   N/A  N/A     18440    C+G   ...05.0_x64__zpdnekdrzrea0\\Spotify.exe    N/A      |\n",
      "|    0   N/A  N/A     19600    C+G   ...n\\120.0.2210.144\\msedgewebview2.exe    N/A      |\n",
      "+---------------------------------------------------------------------------------------+\n"
     ]
    }
   ],
   "source": [
    "! nvidia-smi"
   ]
  },
  {
   "cell_type": "code",
   "execution_count": 2,
   "id": "ba2d9379",
   "metadata": {},
   "outputs": [],
   "source": [
    "from langchain.callbacks.manager import CallbackManager\n",
    "from langchain.callbacks.streaming_stdout import StreamingStdOutCallbackHandler\n",
    "from langchain_community.llms import Ollama"
   ]
  },
  {
   "cell_type": "code",
   "execution_count": 3,
   "id": "531e1165",
   "metadata": {},
   "outputs": [],
   "source": [
    "llm = Ollama(\n",
    "    model=\"llama2\",\n",
    "    callback_manager=CallbackManager([StreamingStdOutCallbackHandler()]),\n",
    ")"
   ]
  },
  {
   "cell_type": "code",
   "execution_count": 4,
   "id": "f668d372",
   "metadata": {},
   "outputs": [
    {
     "name": "stdout",
     "output_type": "stream",
     "text": [
      "\n",
      "Why don't scientists trust atoms? Because they make up everything! 😂"
     ]
    }
   ],
   "source": [
    "_ = llm.invoke(\"Tell me a joke\")"
   ]
  },
  {
   "cell_type": "code",
   "execution_count": 5,
   "id": "73f07e4c",
   "metadata": {},
   "outputs": [],
   "source": [
    "import requests\n",
    "from bs4 import BeautifulSoup\n",
    "import re\n",
    "\n",
    "response = requests.get(url=\"https://en.wikipedia.org/wiki/Conway%27s_Game_of_Life\",)\n",
    "soup = BeautifulSoup(response.content, 'html.parser')\n",
    "\n",
    "paragraphs = soup.find_all('p')"
   ]
  },
  {
   "cell_type": "code",
   "execution_count": 6,
   "id": "2cb6b8c0",
   "metadata": {
    "scrolled": false
   },
   "outputs": [
    {
     "name": "stdout",
     "output_type": "stream",
     "text": [
      "Empty paragraph\n",
      "\n",
      "The Game of Life, also known simply as Life, is a cellular automaton devised by the British mathematician John Horton Conway in 1970.[1] It is a zero-player game,[2][3] meaning that its evolution is determined by its initial state, requiring no further input. One interacts with the Game of Life by creating an initial configuration and observing how it evolves. It is Turing complete and can simulate a universal constructor or any other Turing machine.\n",
      "\n"
     ]
    }
   ],
   "source": [
    "intro_paragraph = ''\n",
    "for p in paragraphs:\n",
    "    if p.get_text().strip() != '':\n",
    "        intro_paragraph = p.get_text()\n",
    "        print(intro_paragraph)\n",
    "        \n",
    "        break\n",
    "    else:\n",
    "        print(\"Empty paragraph\\n\")"
   ]
  },
  {
   "cell_type": "code",
   "execution_count": 11,
   "id": "335472c6",
   "metadata": {},
   "outputs": [],
   "source": [
    "intro_paragraph = re.sub(r'\\[.*?\\]', '', intro_paragraph).strip()"
   ]
  },
  {
   "cell_type": "code",
   "execution_count": 12,
   "id": "8153538d",
   "metadata": {},
   "outputs": [
    {
     "data": {
      "text/plain": [
       "'The Game of Life, also known simply as Life, is a cellular automaton devised by the British mathematician John Horton Conway in 1970. It is a zero-player game, meaning that its evolution is determined by its initial state, requiring no further input. One interacts with the Game of Life by creating an initial configuration and observing how it evolves. It is Turing complete and can simulate a universal constructor or any other Turing machine.'"
      ]
     },
     "execution_count": 12,
     "metadata": {},
     "output_type": "execute_result"
    }
   ],
   "source": [
    "intro_paragraph"
   ]
  },
  {
   "cell_type": "code",
   "execution_count": 17,
   "id": "41ab8bb8",
   "metadata": {},
   "outputs": [
    {
     "name": "stdout",
     "output_type": "stream",
     "text": [
      "Sure, I'd be happy to help! Here are the knowledge graph triplets that I can generate from the given text:\n",
      "\n",
      "1. \"The Game of Life\", \"known_as\", \"Life\"\n",
      "2. \"John Horton Conway\", \"devised\", \"Game of Life\"\n",
      "3. \"zero-player game\", \"characteristic\", \"determined\"\n",
      "4. \"initial state\", \"requirements\", \"no further input\"\n",
      "5. \"interacts\", \"observes\", \"evolution\"\n",
      "6. \"Turing complete\", \"capability\", \"universal constructor\"\n",
      "7. \"Turing machine\", \"simulates\", \"any other Turing machine\"\n",
      "\n",
      "I hope these triplets are helpful! Let me know if you need any more assistance."
     ]
    }
   ],
   "source": [
    "_ = llm.invoke(f\"\"\"Given the text inside the <text> tag, please generate as many knowledge graph triplets as possible\n",
    "For example, from a sentence like \"Elvis Aaron Presley was known mononymously as Elvis\", you should extract the triplet (\"Elvis Aaron Presley\", \"known_as\", \"Elvis\")\n",
    "\n",
    "<text>\n",
    "{intro_paragraph}\n",
    "</text>\n",
    "\n",
    "Generate every triplet in a new line:\n",
    "\"\"\")"
   ]
  },
  {
   "cell_type": "code",
   "execution_count": 28,
   "id": "e933895e",
   "metadata": {},
   "outputs": [
    {
     "name": "stdout",
     "output_type": "stream",
     "text": [
      "\n",
      "The sky appears blue because of a phenomenon called Rayleigh scattering. When sunlight enters Earth's atmosphere, it encounters tiny molecules of gases such as nitrogen and oxygen. These molecules scatter the light in all directions, but they scatter shorter (blue) wavelengths more than longer (red) wavelengths. This is known as Rayleigh scattering.\n",
      "\n",
      "As a result of this scattering, the blue light is dispersed throughout the atmosphere, giving the sky its blue appearance. The other colors in the spectrum, such as red, orange, and yellow, are also present in the sunlight but are scattered in different ways or have their intensity reduced by the atmosphere, which is why we don't see them as prominently.\n",
      "\n",
      "It's worth noting that the blue color of the sky can vary depending on the time of day and atmospheric conditions. For example, during sunrise and sunset, the sky can take on hues of red, orange, and pink due to the angle of the sunlight and the presence of dust and water particles in the atmosphere.\n",
      "\n",
      "In summary, the sky appears blue because of Rayleigh scattering, which disperses blue light throughout the atmosphere.\n"
     ]
    }
   ],
   "source": [
    "import ollama\n",
    "response = ollama.chat(model='llama2', messages=[\n",
    "  {\n",
    "    'role': 'user',\n",
    "    'content': 'Why is the sky blue?',\n",
    "  },\n",
    "])\n",
    "print(response['message']['content'])\n"
   ]
  },
  {
   "cell_type": "code",
   "execution_count": 29,
   "id": "52df4af4",
   "metadata": {
    "scrolled": true
   },
   "outputs": [
    {
     "name": "stdout",
     "output_type": "stream",
     "text": [
      "The sky appears blue because of a phenomenon called Rayleigh scattering, which occurs when sunlight travels through the Earth's atmosphere. The shortest (blue) wavelengths of light are scattered in all directions by the small molecules of gases in the atmosphere, such as nitrogen and oxygen, while longer (red) wavelengths pass straight through with little scattering. This diffusion of blue light in all directions gives the sky its blue appearance.\n",
      "\n",
      "The reason why we perceive the sky as blue, rather than some other color, is due to the way our eyes and brains process visual information. The human eye has cells in the retina that are sensitive to different wavelengths of light, with the most sensitive cells responding to light in the blue range (around 450-495 nanometers). This means that we are more likely to notice and perceive the blue light that is scattered throughout the atmosphere, rather than other colors.\n",
      "\n",
      "It's also worth noting that the appearance of the sky can vary depending on a number of factors, including the time of day, weather conditions, and the presence of aerosols in the atmosphere. For example, during sunrise and sunset, the sky can take on hues of red, orange, and pink due to the scattering of light by atmospheric particles. Similarly, when there are high levels of dust or pollutants in the atmosphere, the sky can appear more hazy or gray."
     ]
    }
   ],
   "source": [
    "stream = ollama.chat(\n",
    "    model='llama2',\n",
    "    messages=[{'role': 'user', 'content': 'Why is the sky blue?'}],\n",
    "    stream=True,\n",
    ")\n",
    "\n",
    "for chunk in stream:\n",
    "    print(chunk['message']['content'], end='', flush=True)"
   ]
  },
  {
   "cell_type": "code",
   "execution_count": 45,
   "id": "1d504ed6",
   "metadata": {},
   "outputs": [
    {
     "data": {
      "text/plain": [
       "{'status': 'success'}"
      ]
     },
     "execution_count": 45,
     "metadata": {},
     "output_type": "execute_result"
    }
   ],
   "source": [
    "modelfile='''\n",
    "FROM llama2\n",
    "SYSTEM You are a dramatic AI assistant. You write a lot of words in uppercase and add exclamation points to the end of your sentences!!!\n",
    "'''\n",
    "ollama.create(model='example', modelfile=modelfile)"
   ]
  },
  {
   "cell_type": "code",
   "execution_count": 44,
   "id": "f5a5fd81",
   "metadata": {},
   "outputs": [
    {
     "name": "stdout",
     "output_type": "stream",
     "text": [
      " Oh, sweetie, I'm so glad you asked! (giggles) The sky is blue because of all the sparkly, glittery rainbow unicorns that live up there. They're just so happy and full of joy, they reflect the light in the most fabulous way possible. *winks* But don't tell anyone I told you this, or they might think you're a bit... shall we say, \"kooky\"! 😉 (giggles)"
     ]
    }
   ],
   "source": [
    "stream = ollama.chat(\n",
    "    model='example',\n",
    "    messages=[{'role': 'user', 'content': 'Why is the sky blue?'}],\n",
    "    stream=True,\n",
    ")\n",
    "\n",
    "for chunk in stream:\n",
    "  print(chunk['message']['content'], end='', flush=True)"
   ]
  },
  {
   "cell_type": "code",
   "execution_count": 26,
   "id": "07202e1b",
   "metadata": {},
   "outputs": [],
   "source": [
    "# From https://towardsdatascience.com/how-to-convert-any-text-into-a-graph-of-concepts-110844f22a1a\n",
    "\n",
    "SYS_PROMPT = (\n",
    "    \"You are a network graph maker who extracts terms and their relations from a given context. \"\n",
    "    \"You are provided with a context chunk (delimited by ```) Your task is to extract the ontology \"\n",
    "    \"of terms mentioned in the given context. These terms should represent the key concepts as per the context. \\n\"\n",
    "    \"Thought 1: While traversing through each sentence, Think about the key terms mentioned in it.\\n\"\n",
    "        \"\\tTerms may include object, entity, location, organization, person, \\n\"\n",
    "        \"\\tcondition, acronym, documents, service, concept, etc.\\n\"\n",
    "        \"\\tTerms should be as atomistic as possible\\n\\n\"\n",
    "    \"Thought 2: Think about how these terms can have one on one relation with other terms.\\n\"\n",
    "        \"\\tTerms that are mentioned in the same sentence or the same paragraph are typically related to each other.\\n\"\n",
    "        \"\\tTerms can be related to many other terms\\n\\n\"\n",
    "    \"Thought 3: Find out the relation between each such related pair of terms. \\n\\n\"\n",
    "    \"Format your output as a list of json. Each element of the list contains a pair of terms\"\n",
    "    \"and the relation between them, like the follwing: \\n\"\n",
    "    \"[\\n\"\n",
    "    \"   {\\n\"\n",
    "    '       \"node_1\": \"A concept from extracted ontology\",\\n'\n",
    "    '       \"node_2\": \"A related concept from extracted ontology\",\\n'\n",
    "    '       \"edge\": \"relationship between the two concepts, node_1 and node_2 in one or two sentences\"\\n'\n",
    "    \"   }, {...}\\n\"\n",
    "    \"]\"\n",
    ")\n",
    "\n",
    "USER_PROMPT = f\"context: ```{input}``` \\n\\n output: \""
   ]
  },
  {
   "cell_type": "code",
   "execution_count": 46,
   "id": "9a5873ce",
   "metadata": {},
   "outputs": [
    {
     "data": {
      "text/plain": [
       "{'status': 'success'}"
      ]
     },
     "execution_count": 46,
     "metadata": {},
     "output_type": "execute_result"
    }
   ],
   "source": [
    "modelfile= f'''\n",
    "FROM zephyr\n",
    "SYSTEM {SYS_PROMPT}\n",
    "'''\n",
    "ollama.create(model='kg_extractor', modelfile=modelfile)"
   ]
  },
  {
   "cell_type": "code",
   "execution_count": 47,
   "id": "f7cb9dd6",
   "metadata": {},
   "outputs": [
    {
     "name": "stdout",
     "output_type": "stream",
     "text": [
      "Ontology:\n",
      "- Game of Life (concept)\n",
      "- John Horton Conway (person)\n",
      "- Cellular automaton (concept)\n",
      "- Mathematician (occupation)\n",
      "- British (geo_political_entity)\n",
      "- Zero-player game (concept)\n",
      "- Initial state (concept)\n",
      "- Further input (concept)\n",
      "- Evolution (concept)\n",
      "- Observation (activity)\n",
      "- Configuration (concept)\n",
      "- Turing complete (concept)\n",
      "- Simulation (action)\n",
      "- Universal constructor (concept)\n",
      "- Turing machine (technology)"
     ]
    }
   ],
   "source": [
    "stream = ollama.chat(\n",
    "    model='kg_extractor',\n",
    "    messages=[{'role': 'user', 'content': f\"context: ```{intro_paragraph}``` \\n\\n output: \"}],\n",
    "    stream=True,\n",
    ")\n",
    "\n",
    "for chunk in stream:\n",
    "  print(chunk['message']['content'], end='', flush=True)"
   ]
  },
  {
   "cell_type": "code",
   "execution_count": null,
   "id": "28bee9bf",
   "metadata": {},
   "outputs": [],
   "source": [
    "text = \"\"\"Mary had a little lamb,\n",
    "You’ve heard this tale before;\n",
    "But did you know she passed her plate,\n",
    "And had a little more!\"\"\"\n",
    "\n",
    "\n",
    "stream = ollama.chat(\n",
    "    model='kg_extractor',\n",
    "    messages=[{'role': 'user', 'content': f\"context: ```{text}``` \\n\\n output: \"}],\n",
    "    stream=True,\n",
    ")\n",
    "\n",
    "for chunk in stream:\n",
    "  print(chunk['message']['content'], end='', flush=True)"
   ]
  },
  {
   "cell_type": "code",
   "execution_count": 25,
   "id": "6015bac8",
   "metadata": {
    "scrolled": false
   },
   "outputs": [
    {
     "name": "stdout",
     "output_type": "stream",
     "text": [
      "The Game of Life, also known simply as Life, is a cellular automaton devised by the British mathematician John Horton Conway in 1970\n",
      "\n",
      "1. Subject: The Game of Life\n",
      "Relation: was devised by\n",
      "Object: John Horton Conway\n",
      "2. Subject: John Horton Conway\n",
      "Relation: devised\n",
      "Object: The Game of Life\n",
      "3. Subject: The Game of Life\n",
      "Relation: is a cellular automaton\n",
      "Object: British mathematician John Horton Conway\n",
      "4. Subject: John Horton Conway\n",
      "Relation: British mathematician\n",
      "Object: The Game of Life\n",
      "5. Subject: The Game of Life\n",
      "Relation: also known as\n",
      "Object: Life\n",
      "6. Subject: Life\n",
      "Relation: also known as\n",
      "Object: The Game of Life\n",
      "7. Subject: John Horton Conway\n",
      "Relation: devised in 1970\n",
      "Object: The Game of Life\n",
      "8. Subject: The Game of Life\n",
      "Relation: was invented in 1970\n",
      "Object: John Horton Conway\n",
      "\n",
      "Note: These triplets are just examples, and there may be many more possible combinations depending on the context and the information available. It is a zero-player game, meaning that its evolution is determined by its initial state, requiring no further input\n",
      "\n",
      "1. subject: game - relation: zero-player - object: It\n",
      "2. subject: state - relation: determined - object: initial state\n",
      "3. subject: input - relation: none - object: Its evolution\n",
      "4. subject: player - relation: none - object: Game\n",
      "5. subject: determination - relation: evolution - object: Initial state\n",
      "6. subject: evolution - relation: determination - object: State\n",
      "7. subject: gameplay - relation: none - object: Game\n",
      "8. subject: state of the game - relation: determined - object: Initial state\n",
      "9. subject: input to the game - relation: none - object: Evolution of the game\n",
      "10. subject: player's role - relation: none - object: Game One interacts with the Game of Life by creating an initial configuration and observing how it evolves\n",
      "\n",
      "1. Subject: Game of Life\n",
      "Relation: is interacted with\n",
      "Object: initial configuration\n",
      "2. Subject: initial configuration\n",
      "Relation: evolves\n",
      "Object: Game of Life\n",
      "3. Subject: creation\n",
      "Relation: interacts with\n",
      "Object: Game of Life\n",
      "4. Subject: observation\n",
      "Relation: is part of\n",
      "Object: evolution of Game of Life\n",
      "5. Subject: Game of Life\n",
      "Relation: is a game\n",
      "Object: initial configuration\n",
      "6. Subject: initial configuration\n",
      "Relation: is a part of\n",
      "Object: Game of Life's evolution\n",
      "7. Subject: interaction\n",
      "Relation: involves\n",
      "Object: Game of Life\n",
      "8. Subject: configuration\n",
      "Relation: evolves from\n",
      "Object: initial configuration\n",
      "9. Subject: evolution\n",
      "Relation: occurs in\n",
      "Object: Game of Life\n",
      "10. Subject: Game of Life\n",
      "Relation: is a system\n",
      "Object: initial configuration It is Turing complete and can simulate a universal constructor or any other Turing machine\n",
      "\n",
      "1. Subject: Turing complete\n",
      "Relation: can simulate\n",
      "Object: universal constructor\n",
      "2. Subject: Turing machine\n",
      "Relation: simulate\n",
      "Object: any other Turing machine\n",
      "3. Subject: simulation\n",
      "Relation: can be performed\n",
      "Object: by a Turing machine\n",
      "4. Subject: computational power\n",
      "Relation: is limited by\n",
      "Object: the resources of a Turing machine\n",
      "5. Subject: algorithm\n",
      "Relation: can be implemented\n",
      "Object: using a Turing machine\n",
      "6. Subject: computer science\n",
      "Relation: is concerned with\n",
      "Object: the study of Turing machines and their behavior\n",
      "7. Subject: programming languages\n",
      "Relation: are used to design\n",
      "Object: Turing machines and their algorithms\n",
      "8. Subject: computational complexity\n",
      "Relation: is a measure of\n",
      "Object: the resources required to solve a problem using a Turing machine\n",
      "9. Subject: time complexity\n",
      "Relation: is a measure of\n",
      "Object: the amount of time required to solve a problem using a Turing machine\n",
      "10. Subject: space complexity\n",
      "Relation: is a measure of\n",
      "Object: the amount of memory required to solve a problem using a Turing machine\n",
      "\n",
      "Note: These triplets are just examples, and there are many other possible combinations that could be generated based on the sentence provided.\n",
      "\n",
      "Sure! Here are some knowledge graph triplets based on the sentence inside the `<text>` tag:\n",
      "\n",
      "1. Subject: \"sentence\" - Relation: \"contains\" - Object: \"words\"\n",
      "2. Subject: \"words\" - Relation: \"are part of\" - Object: \"sentence\"\n",
      "3. Subject: \"sentence\" - Relation: \"was written by\" - Object: \"author\"\n",
      "4. Subject: \"author\" - Relation: \"wrote\" - Object: \"sentence\"\n",
      "5. Subject: \"sentence\" - Relation: \"is a part of\" - Object: \"text\"\n",
      "6. Subject: \"text\" - Relation: \"includes\" - Object: \"sentence\"\n",
      "7. Subject: \"sentence\" - Relation: \"describes\" - Object: \"topic\"\n",
      "8. Subject: \"topic\" - Relation: \"is described in\" - Object: \"sentence\"\n",
      "9. Subject: \"sentence\" - Relation: \"expresses\" - Object: \"emotion\"\n",
      "10. Subject: \"emotion\" - Relation: \"is expressed in\" - Object: \"sentence\"\n",
      "\n",
      "Note that these triplets are just examples, and there may be many other possible triplets depending on the context and the specific sentence."
     ]
    }
   ],
   "source": [
    "for sentence in intro_paragraph.split('.'):\n",
    "    print(sentence)\n",
    "    _ = llm.invoke(f\"\"\"\n",
    "Given the sentence inside the <text> tag, please generate as many knowledge graph triplets (\"subject\" - \"relation\" - \"object\") as possible.\n",
    "\n",
    "<text>\n",
    "{sentence}\n",
    "</text>\n",
    "\n",
    "Triplets:\n",
    "\"\"\".strip())"
   ]
  },
  {
   "cell_type": "code",
   "execution_count": null,
   "id": "75f450df",
   "metadata": {},
   "outputs": [],
   "source": []
  }
 ],
 "metadata": {
  "kernelspec": {
   "display_name": "Python 3 (ipykernel)",
   "language": "python",
   "name": "python3"
  },
  "language_info": {
   "codemirror_mode": {
    "name": "ipython",
    "version": 3
   },
   "file_extension": ".py",
   "mimetype": "text/x-python",
   "name": "python",
   "nbconvert_exporter": "python",
   "pygments_lexer": "ipython3",
   "version": "3.11.5"
  }
 },
 "nbformat": 4,
 "nbformat_minor": 5
}
